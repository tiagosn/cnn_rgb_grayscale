{
 "cells": [
  {
   "cell_type": "markdown",
   "metadata": {},
   "source": [
    "### Create CSVs with all results for each one of the 3 types of models (Simple CNN, Base Model and ResNet-20) "
   ]
  },
  {
   "cell_type": "code",
   "execution_count": 1,
   "metadata": {},
   "outputs": [],
   "source": [
    "import pandas as pd"
   ]
  },
  {
   "cell_type": "code",
   "execution_count": 2,
   "metadata": {},
   "outputs": [],
   "source": [
    "results_cifar10 = pd.read_csv('results_cifar10.csv')\n",
    "results_cifar10 = results_cifar10[results_cifar10['clf'] == 'lr']"
   ]
  },
  {
   "cell_type": "code",
   "execution_count": 3,
   "metadata": {},
   "outputs": [],
   "source": [
    "results_cifar100_coarse = pd.read_csv('results_cifar100_coarse.csv')\n",
    "results_cifar100_fine = pd.read_csv('results_cifar100_fine.csv')\n",
    "results_fashion_mnist = pd.read_csv('results_fashion_mnist.csv')"
   ]
  },
  {
   "cell_type": "code",
   "execution_count": 4,
   "metadata": {},
   "outputs": [],
   "source": [
    "all_results = results_cifar10.copy()\n",
    "all_results = all_results.append(results_cifar100_coarse, ignore_index=True)\n",
    "all_results = all_results.append(results_cifar100_fine, ignore_index=True)\n",
    "all_results = all_results.append(results_fashion_mnist, ignore_index=True)"
   ]
  },
  {
   "cell_type": "code",
   "execution_count": 5,
   "metadata": {},
   "outputs": [],
   "source": [
    "all_results['full_ds_name'] =\\\n",
    "        all_results['dataset'].map(str) + '_' +\\\n",
    "        all_results['color_space'].map(str) + '_' +\\\n",
    "        all_results['n_colors'].map(str)"
   ]
  },
  {
   "cell_type": "code",
   "execution_count": 6,
   "metadata": {},
   "outputs": [],
   "source": [
    "all_results = all_results[['model', 'full_ds_name', 'test_acc']]"
   ]
  },
  {
   "cell_type": "code",
   "execution_count": 7,
   "metadata": {},
   "outputs": [],
   "source": [
    "all_results['model'] = all_results['model'].str.replace('_cifar10_',' ')\n",
    "all_results['model'] = all_results['model'].str.replace('.h5','')\n",
    "\n",
    "all_results['model'] = all_results['model'].str.replace('simple','Simple CNN')\n",
    "all_results['model'] = all_results['model'].str.replace('all_conv','Base Model CNN')\n",
    "all_results['model'] = all_results['model'].str.replace('resnet20','ResNet-20')\n",
    "\n",
    "all_results['model'] = all_results['model'].str.replace('rgb256','rgb')"
   ]
  },
  {
   "cell_type": "code",
   "execution_count": 8,
   "metadata": {},
   "outputs": [],
   "source": [
    "base_models = ['Simple CNN', 'Base Model CNN', 'ResNet-20']\n",
    "ds_names = sorted(all_results['full_ds_name'].unique())\n",
    "\n",
    "dict_out = {}\n",
    "\n",
    "for bm in base_models:\n",
    "    results_base_model = all_results[all_results['model'].str.contains(bm)]\n",
    "    model_names = sorted(results_base_model['model'].unique())\n",
    "    \n",
    "    dict_aux = {}\n",
    "    for m in model_names:\n",
    "        results_model = results_base_model[results_base_model['model'].str.contains(m)]\n",
    "        dict_aux[m] = []\n",
    "        for ds in ds_names:\n",
    "            aux = ds\n",
    "            if ('rgb' in ds) and ('rgb' not in m):\n",
    "                aux = ds.replace('rgb', 'gray')\n",
    "            \n",
    "            dict_aux[m].append(results_model[results_model['full_ds_name'] == aux]['test_acc'].values[0])\n",
    "            \n",
    "    df_aux = pd.DataFrame.from_dict(dict_aux)\n",
    "    df_aux['dataset'] = ds_names\n",
    "    df_aux = df_aux[['dataset'] + model_names]\n",
    "    dict_out[bm] = df_aux.copy()"
   ]
  },
  {
   "cell_type": "code",
   "execution_count": 9,
   "metadata": {},
   "outputs": [],
   "source": [
    "for m in dict_out:\n",
    "    aux = 'resnet20'\n",
    "    if m == 'Base Model CNN':\n",
    "        aux = 'base_model'\n",
    "    elif m == 'Simple CNN':\n",
    "        aux = 'simple'\n",
    "    \n",
    "    dict_out[m].to_csv('results_%s.csv' % (aux), index=False)"
   ]
  }
 ],
 "metadata": {
  "kernelspec": {
   "display_name": "Python 3",
   "language": "python",
   "name": "python3"
  },
  "language_info": {
   "codemirror_mode": {
    "name": "ipython",
    "version": 3
   },
   "file_extension": ".py",
   "mimetype": "text/x-python",
   "name": "python",
   "nbconvert_exporter": "python",
   "pygments_lexer": "ipython3",
   "version": "3.6.5"
  }
 },
 "nbformat": 4,
 "nbformat_minor": 2
}
